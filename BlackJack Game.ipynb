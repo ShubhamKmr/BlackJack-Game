{
 "cells": [
  {
   "cell_type": "markdown",
   "metadata": {},
   "source": [
    "# The most interesting game \"Black Jack\" I bet you will play again :--)"
   ]
  },
  {
   "cell_type": "markdown",
   "metadata": {},
   "source": [
    "The game designed here is only a demo version for only one person..Demo version don't include the playing concept of insurance..Rest all features are included.Just run all thee cell once before playing.."
   ]
  },
  {
   "cell_type": "code",
   "execution_count": 1,
   "metadata": {
    "collapsed": true
   },
   "outputs": [],
   "source": [
    "#Introducing all necassary variables..\n",
    "suits = ('Hearts', 'Diamonds', 'Spades', 'Clubs')\n",
    "ranks = ('Two', 'Three', 'Four', 'Five', 'Six', 'Seven', 'Eight', 'Nine', 'Ten', 'Jack', 'Queen', 'King', 'Ace')\n",
    "values = {'Two':2, 'Three':3, 'Four':4, 'Five':5, 'Six':6, 'Seven':7, 'Eight':8, 'Nine':9, 'Ten':10, 'Jack':10,\n",
    "         'Queen':10, 'King':10, 'Ace':1}"
   ]
  },
  {
   "cell_type": "code",
   "execution_count": 2,
   "metadata": {
    "collapsed": true
   },
   "outputs": [],
   "source": [
    "#This is just initialization of all 52 cards in deck..\n",
    "def refill_deck():\n",
    "    for rank in ranks:\n",
    "        for suit in suits:\n",
    "            deck.append(f'{suit} of {rank}')\n",
    "    player_card.clear()\n",
    "    dealer_card.clear()"
   ]
  },
  {
   "cell_type": "code",
   "execution_count": 3,
   "metadata": {
    "collapsed": true
   },
   "outputs": [],
   "source": [
    "#This function shuffles the card well..\n",
    "from random import shuffle\n",
    "def shuffle_card():\n",
    "    shuffle(deck)"
   ]
  },
  {
   "cell_type": "code",
   "execution_count": 4,
   "metadata": {
    "collapsed": true
   },
   "outputs": [],
   "source": [
    "class Account:\n",
    "#Assuming that the person has $100 in is account.You can increase or decrease the amount in the Account class.\n",
    "    amount = 100\n",
    "    def __init__(self):\n",
    "        pass\n",
    "    def bid_amount_debited(self,bid):\n",
    "        if bid > self.amount:\n",
    "            print('In sufficient balance')\n",
    "            return 'In sufficient balance'\n",
    "        else:\n",
    "            self.amount -= bid\n",
    "    def bid_amount_credited(self,bid):\n",
    "        self.amount += bid\n",
    "        print('Bid has been added to your account')\n",
    "    def __str__(self):\n",
    "        return f'User has {self.amount} of balance remaining'"
   ]
  },
  {
   "cell_type": "code",
   "execution_count": 5,
   "metadata": {
    "collapsed": true
   },
   "outputs": [],
   "source": [
    "#This functions shows the card allocated to the Player and the Dealer...\n",
    "def dealer_check(player_total):\n",
    "    dealer_total=0\n",
    "    for card in dealer_card:\n",
    "        print(\"Dealer's card :\",card)\n",
    "        card_content = card.split()\n",
    "        dealer_total += values[card_content[2]]\n",
    "        print(\"Dealer's card Value :\",dealer_total)\n",
    "    if (dealer_total > player_total and dealer_total < 21):\n",
    "        print(\"Player lost all its bids!!!\")\n",
    "        return -bid\n",
    "    for card in deck:\n",
    "        print(\"Dealer's card :\",card)\n",
    "        card_content = card.split()\n",
    "        dealer_total += values[card_content[2]]\n",
    "        print('Dealer cards Value:',dealer_total)\n",
    "        if (dealer_total==21) or (dealer_total > player_total and dealer_total < 21):\n",
    "            print(\"Player lost all its bids!!\")\n",
    "            return -bid\n",
    "        elif dealer_total > 21:\n",
    "            print(\"Player won the Bids!!!!!!\")\n",
    "            return bid*2"
   ]
  },
  {
   "cell_type": "code",
   "execution_count": 6,
   "metadata": {
    "collapsed": true
   },
   "outputs": [],
   "source": [
    "#This function checks whether the decision taken by the player is correct or not.ie Whether player won or lost his/her bids.. ;-)\n",
    "def ask_player(deck):\n",
    "    more = True\n",
    "    player_total=0\n",
    "    while more:\n",
    "        for card in player_card:\n",
    "            #print(card)\n",
    "            card_content = card.split()\n",
    "            player_total += values[card_content[2]]\n",
    "            #print('Player Total:',player_total)\n",
    "            if player_total==21:\n",
    "                print(\"Player won the Bids!\")\n",
    "                return bid*2\n",
    "            elif player_total > 21:\n",
    "                print(\"Bursted!! Player lost all its Bids\")\n",
    "                return -bid\n",
    "        print('Player Total:',player_total)\n",
    "        choice = input('Would you like to have a card Y or N')\n",
    "        while choice.lower()!='y' and choice.lower()!='n':\n",
    "            clear_output()\n",
    "            print('Wrong input!!')\n",
    "        if choice.lower()=='y':\n",
    "            player_card.append(deck.pop(0))\n",
    "            player_total=0\n",
    "        else:\n",
    "            more = False \n",
    "            return dealer_check(player_total)"
   ]
  },
  {
   "cell_type": "code",
   "execution_count": 7,
   "metadata": {
    "collapsed": true
   },
   "outputs": [],
   "source": [
    "#Just importing some module...\n",
    "from IPython.display import clear_output"
   ]
  },
  {
   "cell_type": "code",
   "execution_count": 8,
   "metadata": {
    "collapsed": true
   },
   "outputs": [],
   "source": [
    "#This function ask Player for the card...\n",
    "def ask_input(choice):\n",
    "    while choice.lower()!='y' and choice.lower()!='n':\n",
    "        clear_output()\n",
    "        print('You have entered a wrong key!!')\n",
    "        choice = input('would you like to play press Y or N')\n",
    "    if choice.lower() == 'y':\n",
    "        print('Ready!')\n",
    "        return 0\n",
    "    else:\n",
    "        return -1"
   ]
  },
  {
   "cell_type": "code",
   "execution_count": 9,
   "metadata": {},
   "outputs": [
    {
     "name": "stdout",
     "output_type": "stream",
     "text": [
      "Welcome to BlackJack Corner..\n",
      "Would you like to play press Y or Ny\n",
      "Ready!\n",
      "Enter how much Bid you want to invest100\n",
      "Your first two card are:\n",
      " 1:Hearts of Two\n",
      " 2:Clubs of Six\n",
      "One of the card of dealer is :Hearts of Four\n",
      "Player Total: 8\n",
      "Would you like to have a card y or ny\n",
      "Player Total: 18\n",
      "Would you like to have a card y or ny\n",
      "Player Total: 19\n",
      "Would you like to have a card y or nn\n",
      "Dealer's card : Hearts of Four\n",
      "Dealer's card Value : 4\n",
      "Dealer's card : Hearts of Ten\n",
      "Dealer's card Value : 14\n",
      "Dealer's card : Clubs of Seven\n",
      "Dealer cards Value: 21\n",
      "Player lost all its bids!!\n",
      "Amount has been debited form your account\n",
      "User has 0 of balance remaining\n",
      "See U Soon.. ;-)\n"
     ]
    }
   ],
   "source": [
    "#This cell consists of loops and function calls allocated in a definite order..\n",
    "play = True\n",
    "player_card = []\n",
    "dealer_card = []\n",
    "deck = []\n",
    "bid = 0\n",
    "print('Welcome to BlackJack Corner..')\n",
    "choice = input('Would you like to play press Y or N')\n",
    "while play:\n",
    "    option = ask_input(choice)\n",
    "    if option==-1:\n",
    "        play = False\n",
    "    else:\n",
    "        refill_deck()\n",
    "        shuffle_card()\n",
    "        player = Account()\n",
    "        try:\n",
    "            bid = int(input('Enter how much Bid you want to invest'))\n",
    "        except:\n",
    "            print('Please enter the correct amount')\n",
    "        cause = player.bid_amount_debited(bid)\n",
    "        if cause == 'In sufficient balance':\n",
    "            break\n",
    "        player_card.append(deck.pop(0))\n",
    "        player_card.append(deck.pop(0))\n",
    "        print(f'Your first two card are:\\n 1:{player_card[0]}\\n 2:{player_card[1]}')\n",
    "        dealer_card.append(deck.pop(0))\n",
    "        dealer_card.append(deck.pop(0))\n",
    "        print(f'One of the card of dealer is :{dealer_card[0]}')\n",
    "        bid = ask_player(deck)\n",
    "        if bid < 0:\n",
    "            print('Amount has been debited form your account')\n",
    "        else:\n",
    "            player.bid_amount_credited(bid)\n",
    "        print(player)\n",
    "        play=False\n",
    "print('See U Soon.. ;-)')"
   ]
  }
 ],
 "metadata": {
  "kernelspec": {
   "display_name": "Python 3",
   "language": "python",
   "name": "python3"
  },
  "language_info": {
   "codemirror_mode": {
    "name": "ipython",
    "version": 3
   },
   "file_extension": ".py",
   "mimetype": "text/x-python",
   "name": "python",
   "nbconvert_exporter": "python",
   "pygments_lexer": "ipython3",
   "version": "3.6.3"
  }
 },
 "nbformat": 4,
 "nbformat_minor": 2
}
